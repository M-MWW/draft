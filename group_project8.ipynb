{
  "nbformat": 4,
  "nbformat_minor": 0,
  "metadata": {
    "colab": {
      "provenance": [],
      "authorship_tag": "ABX9TyOB+LjmYNLgbxvMqf6jKUFE",
      "include_colab_link": true
    },
    "kernelspec": {
      "name": "python3",
      "display_name": "Python 3"
    },
    "language_info": {
      "name": "python"
    }
  },
  "cells": [
    {
      "cell_type": "markdown",
      "metadata": {
        "id": "view-in-github",
        "colab_type": "text"
      },
      "source": [
        "<a href=\"https://colab.research.google.com/github/M-MWW/draft/blob/main/group_project8.ipynb\" target=\"_parent\"><img src=\"https://colab.research.google.com/assets/colab-badge.svg\" alt=\"Open In Colab\"/></a>"
      ]
    },
    {
      "cell_type": "code",
      "execution_count": 2,
      "metadata": {
        "id": "IUwF_JixbVqt"
      },
      "outputs": [],
      "source": [
        "import pandas as pd\n",
        "import numpy as np\n",
        "import matplotlib.pyplot as plt\n",
        "import seaborn as sns\n",
        "from statsmodels.formula.api import ols"
      ]
    },
    {
      "cell_type": "code",
      "source": [
        "child_labor = pd.read_csv('https://raw.githubusercontent.com/M-MWW/draft/main/cas_project_01.csv') # uncomment to read directly from GitHub\n",
        "child_labor['GDP_per_capita'] = child_labor['GDP_per_capita']/1000\n",
        "child_labor = child_labor.dropna()"
      ],
      "metadata": {
        "id": "hREVlhlxiwIq"
      },
      "execution_count": 4,
      "outputs": []
    },
    {
      "cell_type": "code",
      "source": [
        "print(child_labor.corr())"
      ],
      "metadata": {
        "colab": {
          "base_uri": "https://localhost:8080/"
        },
        "id": "StUP22ABkpKZ",
        "outputId": "f235f62c-925f-4457-f46a-eb0b23a7f8c2"
      },
      "execution_count": 5,
      "outputs": [
        {
          "output_type": "stream",
          "name": "stdout",
          "text": [
            "                 Unnamed: 0      Year  Edu_Expenditure  cl_ratio  \\\n",
            "Unnamed: 0         1.000000 -0.079884         0.012121 -0.011426   \n",
            "Year              -0.079884  1.000000         0.104803 -0.058024   \n",
            "Edu_Expenditure    0.012121  0.104803         1.000000 -0.315563   \n",
            "cl_ratio          -0.011426 -0.058024        -0.315563  1.000000   \n",
            "GDP_per_capita     0.050653  0.021503         0.200255 -0.558030   \n",
            "Population        -0.017121 -0.124338        -0.045010 -0.123223   \n",
            "\n",
            "                 GDP_per_capita  Population  \n",
            "Unnamed: 0             0.050653   -0.017121  \n",
            "Year                   0.021503   -0.124338  \n",
            "Edu_Expenditure        0.200255   -0.045010  \n",
            "cl_ratio              -0.558030   -0.123223  \n",
            "GDP_per_capita         1.000000   -0.083966  \n",
            "Population            -0.083966    1.000000  \n"
          ]
        },
        {
          "output_type": "stream",
          "name": "stderr",
          "text": [
            "<ipython-input-5-1e06673ea1a5>:1: FutureWarning: The default value of numeric_only in DataFrame.corr is deprecated. In a future version, it will default to False. Select only valid columns or specify the value of numeric_only to silence this warning.\n",
            "  print(child_labor.corr())\n"
          ]
        }
      ]
    },
    {
      "cell_type": "code",
      "source": [
        "sp1=sns.regplot(data = child_labor, x = 'Edu_Expenditure', y = 'cl_ratio', fit_reg = True)\n",
        "sp1.set(xlabel='Government expenditure on education as share of GDP(%)',ylabel='cl_ratio',title='Relationship between Edu_Expenditure and child_labor_ratio')\n",
        "plt.show()"
      ],
      "metadata": {
        "id": "8seT1Bvan_tZ"
      },
      "execution_count": null,
      "outputs": []
    },
    {
      "cell_type": "code",
      "source": [
        "sp1=sns.regplot(data = child_labor, x = 'GDP_per_capita', y = 'cl_ratio', fit_reg = True)\n",
        "sp1.set(xlabel='GDP_per_capita((k)$)',ylabel='cl_ratio',title='Relationship between GDP_per_capita and child_labor_ratio')\n",
        "plt.show()"
      ],
      "metadata": {
        "id": "JuMtbxvroifB"
      },
      "execution_count": null,
      "outputs": []
    },
    {
      "cell_type": "code",
      "source": [
        "model = ols('cl_ratio~GDP_per_capita+Edu_Expenditure',data=child_labor)\n",
        "result=model.fit()\n",
        "print(result.summary())"
      ],
      "metadata": {
        "colab": {
          "base_uri": "https://localhost:8080/"
        },
        "id": "4-PiDcpDrFsw",
        "outputId": "284dafc8-cf9a-466b-dba7-7ae940efd854"
      },
      "execution_count": 13,
      "outputs": [
        {
          "output_type": "stream",
          "name": "stdout",
          "text": [
            "                            OLS Regression Results                            \n",
            "==============================================================================\n",
            "Dep. Variable:               cl_ratio   R-squared:                       0.355\n",
            "Model:                            OLS   Adj. R-squared:                  0.340\n",
            "Method:                 Least Squares   F-statistic:                     25.01\n",
            "Date:                Thu, 22 Feb 2024   Prob (F-statistic):           2.21e-09\n",
            "Time:                        15:41:11   Log-Likelihood:                -374.10\n",
            "No. Observations:                  94   AIC:                             754.2\n",
            "Df Residuals:                      91   BIC:                             761.8\n",
            "Df Model:                           2                                         \n",
            "Covariance Type:            nonrobust                                         \n",
            "===================================================================================\n",
            "                      coef    std err          t      P>|t|      [0.025      0.975]\n",
            "-----------------------------------------------------------------------------------\n",
            "Intercept          38.1595      3.869      9.862      0.000      30.473      45.846\n",
            "GDP_per_capita     -1.2398      0.207     -5.998      0.000      -1.650      -0.829\n",
            "Edu_Expenditure    -2.1695      0.878     -2.470      0.015      -3.914      -0.425\n",
            "==============================================================================\n",
            "Omnibus:                        2.426   Durbin-Watson:                   1.545\n",
            "Prob(Omnibus):                  0.297   Jarque-Bera (JB):                2.437\n",
            "Skew:                           0.362   Prob(JB):                        0.296\n",
            "Kurtosis:                       2.688   Cond. No.                         31.6\n",
            "==============================================================================\n",
            "\n",
            "Notes:\n",
            "[1] Standard Errors assume that the covariance matrix of the errors is correctly specified.\n"
          ]
        }
      ]
    },
    {
      "cell_type": "code",
      "source": [
        "model_interaction = ols(\"cl_ratio~ GDP_per_capita*Edu_Expenditure\",data=child_labor)\n",
        "result_interaction=model_interaction.fit() # Fit model\n",
        "print(result_interaction.summary())"
      ],
      "metadata": {
        "colab": {
          "base_uri": "https://localhost:8080/"
        },
        "id": "b2nmOHxtTHKg",
        "outputId": "760fc2dc-f637-4c59-d947-0211c7032cca"
      },
      "execution_count": 12,
      "outputs": [
        {
          "output_type": "stream",
          "name": "stdout",
          "text": [
            "                            OLS Regression Results                            \n",
            "==============================================================================\n",
            "Dep. Variable:               cl_ratio   R-squared:                       0.374\n",
            "Model:                            OLS   Adj. R-squared:                  0.353\n",
            "Method:                 Least Squares   F-statistic:                     17.90\n",
            "Date:                Thu, 22 Feb 2024   Prob (F-statistic):           3.41e-09\n",
            "Time:                        15:41:09   Log-Likelihood:                -372.69\n",
            "No. Observations:                  94   AIC:                             753.4\n",
            "Df Residuals:                      90   BIC:                             763.6\n",
            "Df Model:                           3                                         \n",
            "Covariance Type:            nonrobust                                         \n",
            "==================================================================================================\n",
            "                                     coef    std err          t      P>|t|      [0.025      0.975]\n",
            "--------------------------------------------------------------------------------------------------\n",
            "Intercept                         45.2336      5.746      7.872      0.000      33.818      56.649\n",
            "GDP_per_capita                    -2.4310      0.749     -3.244      0.002      -3.920      -0.942\n",
            "Edu_Expenditure                   -3.9322      1.376     -2.857      0.005      -6.667      -1.198\n",
            "GDP_per_capita:Edu_Expenditure     0.2773      0.168      1.653      0.102      -0.056       0.611\n",
            "==============================================================================\n",
            "Omnibus:                        2.580   Durbin-Watson:                   1.681\n",
            "Prob(Omnibus):                  0.275   Jarque-Bera (JB):                2.542\n",
            "Skew:                           0.350   Prob(JB):                        0.281\n",
            "Kurtosis:                       2.601   Cond. No.                         215.\n",
            "==============================================================================\n",
            "\n",
            "Notes:\n",
            "[1] Standard Errors assume that the covariance matrix of the errors is correctly specified.\n"
          ]
        }
      ]
    },
    {
      "cell_type": "code",
      "source": [
        "model1 = ols('cl_ratio~GDP_per_capita',data=child_labor)\n",
        "result=model1.fit()\n",
        "print(result.summary())"
      ],
      "metadata": {
        "colab": {
          "base_uri": "https://localhost:8080/"
        },
        "id": "rnCRbUrWeFIH",
        "outputId": "fe593590-ecd7-4a50-edae-83d3c547a464"
      },
      "execution_count": 11,
      "outputs": [
        {
          "output_type": "stream",
          "name": "stdout",
          "text": [
            "                            OLS Regression Results                            \n",
            "==============================================================================\n",
            "Dep. Variable:               cl_ratio   R-squared:                       0.311\n",
            "Model:                            OLS   Adj. R-squared:                  0.304\n",
            "Method:                 Least Squares   F-statistic:                     41.60\n",
            "Date:                Thu, 22 Feb 2024   Prob (F-statistic):           5.12e-09\n",
            "Time:                        15:41:07   Log-Likelihood:                -377.15\n",
            "No. Observations:                  94   AIC:                             758.3\n",
            "Df Residuals:                      92   BIC:                             763.4\n",
            "Df Model:                           1                                         \n",
            "Covariance Type:            nonrobust                                         \n",
            "==================================================================================\n",
            "                     coef    std err          t      P>|t|      [0.025      0.975]\n",
            "----------------------------------------------------------------------------------\n",
            "Intercept         30.1121      2.145     14.037      0.000      25.851      34.373\n",
            "GDP_per_capita    -1.3420      0.208     -6.450      0.000      -1.755      -0.929\n",
            "==============================================================================\n",
            "Omnibus:                        3.907   Durbin-Watson:                   1.480\n",
            "Prob(Omnibus):                  0.142   Jarque-Bera (JB):                3.790\n",
            "Skew:                           0.488   Prob(JB):                        0.150\n",
            "Kurtosis:                       2.879   Cond. No.                         15.9\n",
            "==============================================================================\n",
            "\n",
            "Notes:\n",
            "[1] Standard Errors assume that the covariance matrix of the errors is correctly specified.\n"
          ]
        }
      ]
    },
    {
      "cell_type": "code",
      "source": [
        "model2 = ols('cl_ratio~Edu_Expenditure',data=child_labor)\n",
        "result=model2.fit()\n",
        "print(result.summary())"
      ],
      "metadata": {
        "colab": {
          "base_uri": "https://localhost:8080/"
        },
        "id": "H1zn6T59ecvB",
        "outputId": "8b7481d7-ee1e-412f-b96e-c4f893934dd5"
      },
      "execution_count": 10,
      "outputs": [
        {
          "output_type": "stream",
          "name": "stdout",
          "text": [
            "                            OLS Regression Results                            \n",
            "==============================================================================\n",
            "Dep. Variable:               cl_ratio   R-squared:                       0.100\n",
            "Model:                            OLS   Adj. R-squared:                  0.090\n",
            "Method:                 Least Squares   F-statistic:                     10.17\n",
            "Date:                Thu, 22 Feb 2024   Prob (F-statistic):            0.00195\n",
            "Time:                        15:41:04   Log-Likelihood:                -389.76\n",
            "No. Observations:                  94   AIC:                             783.5\n",
            "Df Residuals:                      92   BIC:                             788.6\n",
            "Df Model:                           1                                         \n",
            "Covariance Type:            nonrobust                                         \n",
            "===================================================================================\n",
            "                      coef    std err          t      P>|t|      [0.025      0.975]\n",
            "-----------------------------------------------------------------------------------\n",
            "Intercept          32.7474      4.420      7.408      0.000      23.968      41.527\n",
            "Edu_Expenditure    -3.2242      1.011     -3.190      0.002      -5.232      -1.217\n",
            "==============================================================================\n",
            "Omnibus:                        7.952   Durbin-Watson:                   1.487\n",
            "Prob(Omnibus):                  0.019   Jarque-Bera (JB):                7.947\n",
            "Skew:                           0.665   Prob(JB):                       0.0188\n",
            "Kurtosis:                       2.488   Cond. No.                         12.7\n",
            "==============================================================================\n",
            "\n",
            "Notes:\n",
            "[1] Standard Errors assume that the covariance matrix of the errors is correctly specified.\n"
          ]
        }
      ]
    },
    {
      "cell_type": "code",
      "source": [
        "sp3=sns.regplot(x=child_labor['Edu_Expenditure'],y=result.resid,fit_reg=False)\n",
        "sp3.set(xlabel='Government expenditure on education as share of GDP(%)',ylabel='Residuals',title='Plot of residuals against Government expenditure on education as share of GDP')\n",
        "plt.axhline(y=0,ls=\"--\",color=\"red\")\n",
        "plt.show()"
      ],
      "metadata": {
        "id": "McMYOSy3pJv1"
      },
      "execution_count": null,
      "outputs": []
    },
    {
      "cell_type": "code",
      "source": [
        "sp4=sns.regplot(x=child_labor['GDP_per_capita'],y=result.resid,fit_reg=False)\n",
        "sp4.set(xlabel='GDP_per_capita(k)',ylabel='Residuals',title='Plot of residuals against GDP_per_capita(k)')\n",
        "plt.axhline(y=0,ls=\"--\",color=\"red\")\n",
        "plt.show()"
      ],
      "metadata": {
        "id": "m0Vp7BPTrCj1"
      },
      "execution_count": null,
      "outputs": []
    },
    {
      "cell_type": "code",
      "source": [
        "sp5=sns.histplot(x=result.resid,kde=True)\n",
        "sp5.set(xlabel='Residuals',title='Histogram of residuals')\n",
        "plt.show()"
      ],
      "metadata": {
        "id": "8hNiJb9QtWzM"
      },
      "execution_count": null,
      "outputs": []
    }
  ]
}